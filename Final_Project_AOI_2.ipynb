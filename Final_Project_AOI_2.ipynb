{
 "cells": [
  {
   "cell_type": "markdown",
   "metadata": {
    "toc": true
   },
   "source": [
    "<h1>Table of Contents<span class=\"tocSkip\"></span></h1>\n",
    "<div class=\"toc\"><ul class=\"toc-item\"><li><span><a href=\"#CNN-(validation)\" data-toc-modified-id=\"CNN-(validation)-1\"><span class=\"toc-item-num\">1&nbsp;&nbsp;</span>CNN (validation)</a></span><ul class=\"toc-item\"><li><span><a href=\"#Haralick-Feature-Extraction\" data-toc-modified-id=\"Haralick-Feature-Extraction-1.1\"><span class=\"toc-item-num\">1.1&nbsp;&nbsp;</span>Haralick Feature Extraction</a></span></li><li><span><a href=\"#Modeling-(without-weighted)\" data-toc-modified-id=\"Modeling-(without-weighted)-1.2\"><span class=\"toc-item-num\">1.2&nbsp;&nbsp;</span>Modeling (without weighted)</a></span></li><li><span><a href=\"#Modeling-(with-weighted)\" data-toc-modified-id=\"Modeling-(with-weighted)-1.3\"><span class=\"toc-item-num\">1.3&nbsp;&nbsp;</span>Modeling (with weighted)</a></span></li></ul></li></ul></div>"
   ]
  },
  {
   "cell_type": "code",
   "execution_count": 5,
   "metadata": {
    "colab": {
     "base_uri": "https://localhost:8080/"
    },
    "executionInfo": {
     "elapsed": 30145,
     "status": "ok",
     "timestamp": 1641123201112,
     "user": {
      "displayName": "林少穎",
      "photoUrl": "https://lh3.googleusercontent.com/a/default-user=s64",
      "userId": "15074644120866725526"
     },
     "user_tz": -480
    },
    "id": "m12mVjIT2yOR",
    "outputId": "e1433f94-0093-49d7-f214-a424d00bb1f4"
   },
   "outputs": [
    {
     "name": "stdout",
     "output_type": "stream",
     "text": [
      "Mounted at /content/drive\n"
     ]
    }
   ],
   "source": [
    "# from google.colab import drive\n",
    "# drive.mount('/content/drive')"
   ]
  },
  {
   "cell_type": "code",
   "execution_count": 1,
   "metadata": {
    "colab": {
     "base_uri": "https://localhost:8080/"
    },
    "executionInfo": {
     "elapsed": 6,
     "status": "ok",
     "timestamp": 1641123201112,
     "user": {
      "displayName": "林少穎",
      "photoUrl": "https://lh3.googleusercontent.com/a/default-user=s64",
      "userId": "15074644120866725526"
     },
     "user_tz": -480
    },
    "id": "vKBanFBH23e-",
    "outputId": "f21df9a8-6d62-4e1d-997c-e0e02681929c"
   },
   "outputs": [],
   "source": [
    "import os\n",
    "# os.chdir(\"/content/drive/MyDrive/Colab Notebooks/dataset/\")\n",
    "# !pwd"
   ]
  },
  {
   "cell_type": "code",
   "execution_count": 2,
   "metadata": {
    "executionInfo": {
     "elapsed": 2820,
     "status": "ok",
     "timestamp": 1641123151163,
     "user": {
      "displayName": "林少穎",
      "photoUrl": "https://lh3.googleusercontent.com/a/default-user=s64",
      "userId": "15074644120866725526"
     },
     "user_tz": -480
    },
    "id": "agYeHaV626H7"
   },
   "outputs": [],
   "source": [
    "import numpy as np\n",
    "import pandas as pd\n",
    "import seaborn as sns\n",
    "import matplotlib.pyplot as plt\n",
    "import cv2\n",
    "import os\n",
    "#pip install mahotas"
   ]
  },
  {
   "cell_type": "code",
   "execution_count": 3,
   "metadata": {
    "id": "QAE-QcekVapV"
   },
   "outputs": [],
   "source": [
    "import mahotas"
   ]
  },
  {
   "cell_type": "code",
   "execution_count": 4,
   "metadata": {},
   "outputs": [],
   "source": [
    "os.chdir('C:/Users/Meeting/2021 BIG DATA ANALYSIS/Final_Project_AOI/aoi') \n",
    "path = 'C:/Users/Meeting/2021 BIG DATA ANALYSIS/Final_Project_AOI/aoi'\n",
    "\n",
    "# file = os.listdir(path)\n",
    "# print(file)"
   ]
  },
  {
   "cell_type": "code",
   "execution_count": 7,
   "metadata": {
    "colab": {
     "base_uri": "https://localhost:8080/"
    },
    "executionInfo": {
     "elapsed": 289,
     "status": "ok",
     "timestamp": 1641123206631,
     "user": {
      "displayName": "林少穎",
      "photoUrl": "https://lh3.googleusercontent.com/a/default-user=s64",
      "userId": "15074644120866725526"
     },
     "user_tz": -480
    },
    "id": "b0HMzmWb3EVS",
    "outputId": "e46eea15-bf84-46e4-b704-8400c62765e8"
   },
   "outputs": [
    {
     "name": "stdout",
     "output_type": "stream",
     "text": [
      "['train.csv', 'test.csv', 'test_image', 'train_image', 'train(vaild_label).csv']\n"
     ]
    }
   ],
   "source": [
    "# path = '/content/drive/MyDrive/Colab Notebooks/dataset'\n",
    "\n",
    "# file = os.listdir(path)\n",
    "# print(file)"
   ]
  },
  {
   "cell_type": "code",
   "execution_count": 8,
   "metadata": {
    "colab": {
     "base_uri": "https://localhost:8080/",
     "height": 206
    },
    "executionInfo": {
     "elapsed": 354,
     "status": "ok",
     "timestamp": 1641101233187,
     "user": {
      "displayName": "林少穎",
      "photoUrl": "https://lh3.googleusercontent.com/a/default-user=s64",
      "userId": "15074644120866725526"
     },
     "user_tz": -480
    },
    "id": "kXgLxXS-3LLb",
    "outputId": "f4be17e5-788c-42c3-c6fa-9682b839318c"
   },
   "outputs": [
    {
     "data": {
      "text/html": [
       "<div>\n",
       "<style scoped>\n",
       "    .dataframe tbody tr th:only-of-type {\n",
       "        vertical-align: middle;\n",
       "    }\n",
       "\n",
       "    .dataframe tbody tr th {\n",
       "        vertical-align: top;\n",
       "    }\n",
       "\n",
       "    .dataframe thead th {\n",
       "        text-align: right;\n",
       "    }\n",
       "</style>\n",
       "<table border=\"1\" class=\"dataframe\">\n",
       "  <thead>\n",
       "    <tr style=\"text-align: right;\">\n",
       "      <th></th>\n",
       "      <th>ID</th>\n",
       "      <th>Label</th>\n",
       "    </tr>\n",
       "  </thead>\n",
       "  <tbody>\n",
       "    <tr>\n",
       "      <th>0</th>\n",
       "      <td>train_00000.png</td>\n",
       "      <td>0</td>\n",
       "    </tr>\n",
       "    <tr>\n",
       "      <th>1</th>\n",
       "      <td>train_00001.png</td>\n",
       "      <td>1</td>\n",
       "    </tr>\n",
       "    <tr>\n",
       "      <th>2</th>\n",
       "      <td>train_00002.png</td>\n",
       "      <td>1</td>\n",
       "    </tr>\n",
       "    <tr>\n",
       "      <th>3</th>\n",
       "      <td>train_00003.png</td>\n",
       "      <td>5</td>\n",
       "    </tr>\n",
       "    <tr>\n",
       "      <th>4</th>\n",
       "      <td>train_00004.png</td>\n",
       "      <td>5</td>\n",
       "    </tr>\n",
       "  </tbody>\n",
       "</table>\n",
       "</div>"
      ],
      "text/plain": [
       "                ID  Label\n",
       "0  train_00000.png      0\n",
       "1  train_00001.png      1\n",
       "2  train_00002.png      1\n",
       "3  train_00003.png      5\n",
       "4  train_00004.png      5"
      ]
     },
     "execution_count": 8,
     "metadata": {},
     "output_type": "execute_result"
    }
   ],
   "source": [
    "y_train = pd.read_csv('train.csv')\n",
    "y_train.head()"
   ]
  },
  {
   "cell_type": "code",
   "execution_count": 9,
   "metadata": {
    "colab": {
     "base_uri": "https://localhost:8080/",
     "height": 299
    },
    "executionInfo": {
     "elapsed": 397,
     "status": "ok",
     "timestamp": 1640932914652,
     "user": {
      "displayName": "林少穎",
      "photoUrl": "https://lh3.googleusercontent.com/a/default-user=s64",
      "userId": "15074644120866725526"
     },
     "user_tz": -480
    },
    "id": "k97N5Xuz3c1_",
    "outputId": "e4b8d246-4d0b-4869-bb6c-b6f2b2af33ad",
    "scrolled": true
   },
   "outputs": [
    {
     "data": {
      "text/plain": [
       "<matplotlib.axes._subplots.AxesSubplot at 0x236aeba1940>"
      ]
     },
     "execution_count": 9,
     "metadata": {},
     "output_type": "execute_result"
    },
    {
     "data": {
      "image/png": "[encoded data removed]",
      "text/plain": [
       "<Figure size 432x288 with 1 Axes>"
      ]
     },
     "metadata": {
      "needs_background": "light"
     },
     "output_type": "display_data"
    }
   ],
   "source": [
    "# the numbers of label in training data (whole)\n",
    "sns.countplot(x=y_train['Label'])"
   ]
  },
  {
   "cell_type": "code",
   "execution_count": 10,
   "metadata": {
    "colab": {
     "base_uri": "https://localhost:8080/",
     "height": 206
    },
    "executionInfo": {
     "elapsed": 566,
     "status": "ok",
     "timestamp": 1641123216812,
     "user": {
      "displayName": "林少穎",
      "photoUrl": "https://lh3.googleusercontent.com/a/default-user=s64",
      "userId": "15074644120866725526"
     },
     "user_tz": -480
    },
    "id": "iQ0FhpvG3h8J",
    "outputId": "b0a248d9-e62c-40b3-f045-e7bf170c4648"
   },
   "outputs": [
    {
     "data": {
      "text/html": [
       "<div>\n",
       "<style scoped>\n",
       "    .dataframe tbody tr th:only-of-type {\n",
       "        vertical-align: middle;\n",
       "    }\n",
       "\n",
       "    .dataframe tbody tr th {\n",
       "        vertical-align: top;\n",
       "    }\n",
       "\n",
       "    .dataframe thead th {\n",
       "        text-align: right;\n",
       "    }\n",
       "</style>\n",
       "<table border=\"1\" class=\"dataframe\">\n",
       "  <thead>\n",
       "    <tr style=\"text-align: right;\">\n",
       "      <th></th>\n",
       "      <th>Unnamed: 0</th>\n",
       "      <th>ID</th>\n",
       "      <th>Label</th>\n",
       "      <th>valid</th>\n",
       "    </tr>\n",
       "  </thead>\n",
       "  <tbody>\n",
       "    <tr>\n",
       "      <th>0</th>\n",
       "      <td>0</td>\n",
       "      <td>train_00000.png</td>\n",
       "      <td>0</td>\n",
       "      <td>0</td>\n",
       "    </tr>\n",
       "    <tr>\n",
       "      <th>1</th>\n",
       "      <td>1</td>\n",
       "      <td>train_00001.png</td>\n",
       "      <td>1</td>\n",
       "      <td>1</td>\n",
       "    </tr>\n",
       "    <tr>\n",
       "      <th>2</th>\n",
       "      <td>2</td>\n",
       "      <td>train_00002.png</td>\n",
       "      <td>1</td>\n",
       "      <td>0</td>\n",
       "    </tr>\n",
       "    <tr>\n",
       "      <th>3</th>\n",
       "      <td>3</td>\n",
       "      <td>train_00003.png</td>\n",
       "      <td>5</td>\n",
       "      <td>0</td>\n",
       "    </tr>\n",
       "    <tr>\n",
       "      <th>4</th>\n",
       "      <td>4</td>\n",
       "      <td>train_00004.png</td>\n",
       "      <td>5</td>\n",
       "      <td>0</td>\n",
       "    </tr>\n",
       "  </tbody>\n",
       "</table>\n",
       "</div>"
      ],
      "text/plain": [
       "   Unnamed: 0               ID  Label  valid\n",
       "0           0  train_00000.png      0      0\n",
       "1           1  train_00001.png      1      1\n",
       "2           2  train_00002.png      1      0\n",
       "3           3  train_00003.png      5      0\n",
       "4           4  train_00004.png      5      0"
      ]
     },
     "execution_count": 10,
     "metadata": {},
     "output_type": "execute_result"
    }
   ],
   "source": [
    "valid_data = pd.read_csv('train(vaild_label).csv')\n",
    "valid_data.head()\n",
    "# valid=1 validing data , valid=0, training data"
   ]
  },
  {
   "cell_type": "code",
   "execution_count": 11,
   "metadata": {
    "executionInfo": {
     "elapsed": 352,
     "status": "ok",
     "timestamp": 1641123220800,
     "user": {
      "displayName": "林少穎",
      "photoUrl": "https://lh3.googleusercontent.com/a/default-user=s64",
      "userId": "15074644120866725526"
     },
     "user_tz": -480
    },
    "id": "e67lzQcNOij8"
   },
   "outputs": [],
   "source": [
    "train_pd = valid_data[(valid_data['valid']==0)]\n",
    "valid_pd = valid_data[(valid_data['valid']==1)]"
   ]
  },
  {
   "cell_type": "code",
   "execution_count": 12,
   "metadata": {
    "colab": {
     "base_uri": "https://localhost:8080/",
     "height": 297
    },
    "executionInfo": {
     "elapsed": 4,
     "status": "ok",
     "timestamp": 1641101246061,
     "user": {
      "displayName": "林少穎",
      "photoUrl": "https://lh3.googleusercontent.com/a/default-user=s64",
      "userId": "15074644120866725526"
     },
     "user_tz": -480
    },
    "id": "TwD8lAtdPbZ_",
    "outputId": "d70789b3-7b52-4698-d2b3-b40ac410ce4f"
   },
   "outputs": [
    {
     "data": {
      "text/plain": [
       "<matplotlib.axes._subplots.AxesSubplot at 0x236aecfc908>"
      ]
     },
     "execution_count": 12,
     "metadata": {},
     "output_type": "execute_result"
    },
    {
     "data": {
      "image/png": "[encoded data removed]",
      "text/plain": [
       "<Figure size 432x288 with 1 Axes>"
      ]
     },
     "metadata": {
      "needs_background": "light"
     },
     "output_type": "display_data"
    }
   ],
   "source": [
    "# the numbers of label in training data (training data in validation)\n",
    "sns.countplot(x=train_pd['Label'])"
   ]
  },
  {
   "cell_type": "code",
   "execution_count": 13,
   "metadata": {
    "colab": {
     "base_uri": "https://localhost:8080/"
    },
    "executionInfo": {
     "elapsed": 2,
     "status": "ok",
     "timestamp": 1641123224129,
     "user": {
      "displayName": "林少穎",
      "photoUrl": "https://lh3.googleusercontent.com/a/default-user=s64",
      "userId": "15074644120866725526"
     },
     "user_tz": -480
    },
    "id": "_hPf22bMSTyq",
    "outputId": "81ba3118-1ccc-40e4-d53e-5cc54755b2ab"
   },
   "outputs": [
    {
     "name": "stdout",
     "output_type": "stream",
     "text": [
      "unique  [0 1 2 3 4 5]\n",
      "counts:  [471 344  70 264 168 450]\n"
     ]
    }
   ],
   "source": [
    "# the numbers of label in training data (training data in validation)\n",
    "unique, counts = np.unique(train_pd['Label'].values, return_counts=True)\n",
    "print(\"unique \", unique)\n",
    "print(\"counts: \", counts)"
   ]
  },
  {
   "cell_type": "code",
   "execution_count": 14,
   "metadata": {
    "executionInfo": {
     "elapsed": 2,
     "status": "ok",
     "timestamp": 1641123230644,
     "user": {
      "displayName": "林少穎",
      "photoUrl": "https://lh3.googleusercontent.com/a/default-user=s64",
      "userId": "15074644120866725526"
     },
     "user_tz": -480
    },
    "id": "M9IEYg5qPcjk"
   },
   "outputs": [],
   "source": [
    "train_pd = train_pd.drop('Unnamed: 0', axis=1)\n",
    "train_pd = train_pd.drop('valid', axis=1)\n",
    "\n",
    "valid_pd = valid_pd.drop('Unnamed: 0', axis=1)\n",
    "valid_pd = valid_pd.drop('valid', axis=1)"
   ]
  },
  {
   "cell_type": "code",
   "execution_count": 15,
   "metadata": {
    "colab": {
     "base_uri": "https://localhost:8080/"
    },
    "executionInfo": {
     "elapsed": 284,
     "status": "ok",
     "timestamp": 1641123234031,
     "user": {
      "displayName": "林少穎",
      "photoUrl": "https://lh3.googleusercontent.com/a/default-user=s64",
      "userId": "15074644120866725526"
     },
     "user_tz": -480
    },
    "id": "zx2duuQMRZUO",
    "outputId": "5eef0193-61e8-4a10-8869-3b3ab105d512"
   },
   "outputs": [
    {
     "name": "stdout",
     "output_type": "stream",
     "text": [
      "[0.62526539 0.85610465 4.20714286 1.1155303  1.75297619 0.65444444]\n"
     ]
    }
   ],
   "source": [
    "#adjust weight\n",
    "from sklearn.utils.class_weight import compute_class_weight\n",
    "class_weights = compute_class_weight(class_weight='balanced', classes=unique, y=train_pd['Label'].values)\n",
    "print(class_weights)"
   ]
  },
  {
   "cell_type": "code",
   "execution_count": 32,
   "metadata": {
    "executionInfo": {
     "elapsed": 1170,
     "status": "ok",
     "timestamp": 1641123239145,
     "user": {
      "displayName": "林少穎",
      "photoUrl": "https://lh3.googleusercontent.com/a/default-user=s64",
      "userId": "15074644120866725526"
     },
     "user_tz": -480
    },
    "id": "whZ7f2AHW0w5"
   },
   "outputs": [],
   "source": [
    "os.chdir('C:/Users/Meeting/2021 BIG DATA ANALYSIS/Final_Project_AOI/aoi/train_images') \n",
    "# train_image_path = os.path.join(path, 'train_image/')\n",
    "# img = cv2.imread(os.path.join(train_image_path, train_pd.loc[0, \"ID\"]))\n",
    "img = cv2.imread(train_pd.loc[0, \"ID\"])"
   ]
  },
  {
   "cell_type": "code",
   "execution_count": 33,
   "metadata": {
    "collapsed": true
   },
   "outputs": [
    {
     "data": {
      "text/plain": [
       "array([[[171, 171, 171],\n",
       "        [154, 154, 154],\n",
       "        [153, 153, 153],\n",
       "        ...,\n",
       "        [189, 189, 189],\n",
       "        [148, 148, 148],\n",
       "        [158, 158, 158]],\n",
       "\n",
       "       [[165, 165, 165],\n",
       "        [136, 136, 136],\n",
       "        [178, 178, 178],\n",
       "        ...,\n",
       "        [185, 185, 185],\n",
       "        [185, 185, 185],\n",
       "        [202, 202, 202]],\n",
       "\n",
       "       [[160, 160, 160],\n",
       "        [153, 153, 153],\n",
       "        [171, 171, 171],\n",
       "        ...,\n",
       "        [162, 162, 162],\n",
       "        [169, 169, 169],\n",
       "        [170, 170, 170]],\n",
       "\n",
       "       ...,\n",
       "\n",
       "       [[184, 184, 184],\n",
       "        [160, 160, 160],\n",
       "        [201, 201, 201],\n",
       "        ...,\n",
       "        [165, 165, 165],\n",
       "        [193, 193, 193],\n",
       "        [169, 169, 169]],\n",
       "\n",
       "       [[163, 163, 163],\n",
       "        [168, 168, 168],\n",
       "        [186, 186, 186],\n",
       "        ...,\n",
       "        [167, 167, 167],\n",
       "        [178, 178, 178],\n",
       "        [194, 194, 194]],\n",
       "\n",
       "       [[172, 172, 172],\n",
       "        [186, 186, 186],\n",
       "        [154, 154, 154],\n",
       "        ...,\n",
       "        [148, 148, 148],\n",
       "        [155, 155, 155],\n",
       "        [187, 187, 187]]], dtype=uint8)"
      ]
     },
     "execution_count": 33,
     "metadata": {},
     "output_type": "execute_result"
    }
   ],
   "source": [
    "img"
   ]
  },
  {
   "cell_type": "code",
   "execution_count": 34,
   "metadata": {
    "colab": {
     "base_uri": "https://localhost:8080/",
     "height": 321
    },
    "executionInfo": {
     "elapsed": 5,
     "status": "ok",
     "timestamp": 1641123240476,
     "user": {
      "displayName": "林少穎",
      "photoUrl": "https://lh3.googleusercontent.com/a/default-user=s64",
      "userId": "15074644120866725526"
     },
     "user_tz": -480
    },
    "id": "MpSJLKRqXcTW",
    "outputId": "dd1a2565-c9c3-4fe1-ebab-ab3958d45fd1"
   },
   "outputs": [
    {
     "name": "stdout",
     "output_type": "stream",
     "text": [
      "image shape: (512, 512, 3)\n",
      "data type: uint8\n",
      "min: 109, max: 255\n"
     ]
    },
    {
     "data": {
      "image/png": "[encoded data removed]",
      "text/plain": [
       "<Figure size 432x288 with 1 Axes>"
      ]
     },
     "metadata": {
      "needs_background": "light"
     },
     "output_type": "display_data"
    }
   ],
   "source": [
    "print(f\"image shape: {img.shape}\")\n",
    "print(f\"data type: {img.dtype}\")\n",
    "print(f\"min: {img.min()}, max: {img.max()}\")\n",
    "plt.imshow(img)\n",
    "plt.show()"
   ]
  },
  {
   "cell_type": "code",
   "execution_count": 35,
   "metadata": {
    "executionInfo": {
     "elapsed": 268,
     "status": "ok",
     "timestamp": 1641123252219,
     "user": {
      "displayName": "林少穎",
      "photoUrl": "https://lh3.googleusercontent.com/a/default-user=s64",
      "userId": "15074644120866725526"
     },
     "user_tz": -480
    },
    "id": "psLyTw0WcTI7"
   },
   "outputs": [],
   "source": [
    "train_pd.reset_index(drop=True, inplace=True)\n",
    "valid_pd.reset_index(drop=True, inplace=True)"
   ]
  },
  {
   "cell_type": "code",
   "execution_count": 37,
   "metadata": {
    "executionInfo": {
     "elapsed": 283980,
     "status": "ok",
     "timestamp": 1641124191915,
     "user": {
      "displayName": "林少穎",
      "photoUrl": "https://lh3.googleusercontent.com/a/default-user=s64",
      "userId": "15074644120866725526"
     },
     "user_tz": -480
    },
    "id": "RsVIYA-p4kbI"
   },
   "outputs": [],
   "source": [
    "x_train = []\n",
    "for i in range(len(train_pd.loc[:,'ID'])):\n",
    "    image_data = cv2.imread(train_pd[\"ID\"][i])\n",
    "    new_image_data = cv2.resize(image_data, dsize=(512, 512))\n",
    "    x_train.append(new_image_data)\n",
    "x_train = np.array(x_train).reshape(-1,512,512,3)"
   ]
  },
  {
   "cell_type": "code",
   "execution_count": 38,
   "metadata": {
    "colab": {
     "base_uri": "https://localhost:8080/"
    },
    "executionInfo": {
     "elapsed": 2643,
     "status": "ok",
     "timestamp": 1641124194544,
     "user": {
      "displayName": "林少穎",
      "photoUrl": "https://lh3.googleusercontent.com/a/default-user=s64",
      "userId": "15074644120866725526"
     },
     "user_tz": -480
    },
    "id": "wLf0bRmD34c1",
    "outputId": "560dd365-3742-4f32-a3b2-cb4d991af665",
    "scrolled": true
   },
   "outputs": [
    {
     "name": "stdout",
     "output_type": "stream",
     "text": [
      "(1767, 512, 512, 3)\n"
     ]
    }
   ],
   "source": [
    "print(np.array(x_train).shape)"
   ]
  },
  {
   "cell_type": "code",
   "execution_count": 39,
   "metadata": {
    "executionInfo": {
     "elapsed": 5743,
     "status": "ok",
     "timestamp": 1641110048860,
     "user": {
      "displayName": "林少穎",
      "photoUrl": "https://lh3.googleusercontent.com/a/default-user=s64",
      "userId": "15074644120866725526"
     },
     "user_tz": -480
    },
    "id": "ip3kP9-AepN5"
   },
   "outputs": [],
   "source": [
    "x_valid = []\n",
    "for i in range(len(valid_pd.loc[:,'ID'])):\n",
    "    image_data = cv2.imread(valid_pd[\"ID\"][i])\n",
    "    new_image_data = cv2.resize(image_data, dsize=(512, 512))\n",
    "    x_valid.append(new_image_data)\n",
    "x_valid = np.array(x_valid).reshape(-1,512,512,3)"
   ]
  },
  {
   "cell_type": "code",
   "execution_count": 40,
   "metadata": {
    "id": "lRV5vNRs1g-J"
   },
   "outputs": [
    {
     "name": "stdout",
     "output_type": "stream",
     "text": [
      "(761, 512, 512, 3)\n"
     ]
    }
   ],
   "source": [
    "print(np.array(x_valid).shape)"
   ]
  },
  {
   "cell_type": "code",
   "execution_count": 41,
   "metadata": {
    "executionInfo": {
     "elapsed": 2,
     "status": "ok",
     "timestamp": 1641123299424,
     "user": {
      "displayName": "林少穎",
      "photoUrl": "https://lh3.googleusercontent.com/a/default-user=s64",
      "userId": "15074644120866725526"
     },
     "user_tz": -480
    },
    "id": "NxIxV7qxeOQb"
   },
   "outputs": [],
   "source": [
    "y_train = list(train_pd['Label'])\n",
    "y_valid = list(valid_pd['Label'])"
   ]
  },
  {
   "cell_type": "markdown",
   "metadata": {
    "id": "MErtnP21RN4r"
   },
   "source": [
    "# CNN (validation)"
   ]
  },
  {
   "cell_type": "code",
   "execution_count": 42,
   "metadata": {
    "colab": {
     "base_uri": "https://localhost:8080/"
    },
    "executionInfo": {
     "elapsed": 2565,
     "status": "ok",
     "timestamp": 1641123308167,
     "user": {
      "displayName": "林少穎",
      "photoUrl": "https://lh3.googleusercontent.com/a/default-user=s64",
      "userId": "15074644120866725526"
     },
     "user_tz": -480
    },
    "id": "h8PTrHD3XfQ1",
    "outputId": "f272a5b7-01c1-4fe8-d5b3-2008a4677dfd"
   },
   "outputs": [
    {
     "name": "stdout",
     "output_type": "stream",
     "text": [
      "WARNING:tensorflow:From c:\\users\\meeting\\appdata\\local\\programs\\python\\python36\\lib\\site-packages\\tensorflow\\python\\compat\\v2_compat.py:101: disable_resource_variables (from tensorflow.python.ops.variable_scope) is deprecated and will be removed in a future version.\n",
      "Instructions for updating:\n",
      "non-resource variables are not supported in the long term\n"
     ]
    }
   ],
   "source": [
    "import keras\n",
    "from keras.models import Sequential\n",
    "from keras.layers import Dense, SpatialDropout2D, Dropout, Flatten\n",
    "from keras.layers import Conv2D, MaxPooling2D\n",
    "from tensorflow.keras.optimizers import RMSprop\n",
    "from keras.callbacks import EarlyStopping\n",
    "\n",
    "\n",
    "import tensorflow.compat.v1 as tf\n",
    "tf.disable_v2_behavior()\n",
    "from tensorflow.keras.layers import Conv2D, MaxPool2D, Flatten, Dense\n",
    "from tensorflow.keras.layers import Dropout, Input, BatchNormalization\n",
    "from sklearn.metrics import confusion_matrix, accuracy_score\n",
    "from tensorflow.keras.losses import categorical_crossentropy\n",
    "from tensorflow.keras.optimizers import Adadelta\n",
    "from matplotlib.pyplot import cm\n",
    "from tensorflow.keras.models import Model"
   ]
  },
  {
   "cell_type": "code",
   "execution_count": 43,
   "metadata": {
    "colab": {
     "base_uri": "https://localhost:8080/"
    },
    "collapsed": true,
    "executionInfo": {
     "elapsed": 736,
     "status": "ok",
     "timestamp": 1641123838162,
     "user": {
      "displayName": "林少穎",
      "photoUrl": "https://lh3.googleusercontent.com/a/default-user=s64",
      "userId": "15074644120866725526"
     },
     "user_tz": -480
    },
    "id": "YvODO1abUGPt",
    "outputId": "bebf5b3f-668a-49ff-f54e-8e0566cbf084"
   },
   "outputs": [
    {
     "name": "stdout",
     "output_type": "stream",
     "text": [
      "WARNING:tensorflow:From c:\\users\\meeting\\appdata\\local\\programs\\python\\python36\\lib\\site-packages\\keras\\layers\\normalization\\batch_normalization.py:520: _colocate_with (from tensorflow.python.framework.ops) is deprecated and will be removed in a future version.\n",
      "Instructions for updating:\n",
      "Colocations handled automatically by placer.\n",
      "Model: \"model\"\n",
      "_________________________________________________________________\n",
      "Layer (type)                 Output Shape              Param #   \n",
      "=================================================================\n",
      "input_1 (InputLayer)         [(None, 512, 512, 3)]     0         \n",
      "_________________________________________________________________\n",
      "conv2d (Conv2D)              (None, 510, 510, 8)       224       \n",
      "_________________________________________________________________\n",
      "max_pooling2d (MaxPooling2D) (None, 255, 255, 8)       0         \n",
      "_________________________________________________________________\n",
      "conv2d_1 (Conv2D)            (None, 253, 253, 16)      1168      \n",
      "_________________________________________________________________\n",
      "max_pooling2d_1 (MaxPooling2 (None, 126, 126, 16)      0         \n",
      "_________________________________________________________________\n",
      "conv2d_2 (Conv2D)            (None, 124, 124, 32)      4640      \n",
      "_________________________________________________________________\n",
      "max_pooling2d_2 (MaxPooling2 (None, 62, 62, 32)        0         \n",
      "_________________________________________________________________\n",
      "batch_normalization (BatchNo (None, 62, 62, 32)        128       \n",
      "_________________________________________________________________\n",
      "flatten (Flatten)            (None, 123008)            0         \n",
      "_________________________________________________________________\n",
      "dense (Dense)                (None, 512)               62980608  \n",
      "_________________________________________________________________\n",
      "dropout (Dropout)            (None, 512)               0         \n",
      "_________________________________________________________________\n",
      "dense_1 (Dense)              (None, 6)                 3078      \n",
      "=================================================================\n",
      "Total params: 62,989,846\n",
      "Trainable params: 62,989,782\n",
      "Non-trainable params: 64\n",
      "_________________________________________________________________\n"
     ]
    }
   ],
   "source": [
    "##CNN架構\n",
    "\n",
    "## input layer\n",
    "input_layer = Input((512, 512, 3))\n",
    "\n",
    "## convolutional layers\n",
    "conv_layer1 = Conv2D(filters=8, kernel_size=(3, 3), activation='relu')(input_layer)\n",
    "## add max pooling to obtain the most imformatic features\n",
    "pooling_layer1 = MaxPool2D(pool_size=(2, 2))(conv_layer1)\n",
    "\n",
    "conv_layer2 = Conv2D(filters=16, kernel_size=(3, 3), activation='relu')(pooling_layer1)\n",
    "pooling_layer2 = MaxPool2D(pool_size=(2, 2))(conv_layer2)\n",
    "\n",
    "conv_layer3 = Conv2D(filters=32, kernel_size=(3, 3), activation='relu')(pooling_layer2)\n",
    "pooling_layer3 = MaxPool2D(pool_size=(2, 2))(conv_layer3)\n",
    "\n",
    "## perform batch normalization on the convolution outputs before feeding it to MLP architecture\n",
    "pooling_layer4 = BatchNormalization()(pooling_layer3)\n",
    "flatten_layer = Flatten()(pooling_layer4)\n",
    "\n",
    "## create an MLP architecture with dense layers : 4096 -> 512 -> 10\n",
    "## add dropouts to avoid overfitting / perform regularization\n",
    "dense_layer1 = Dense(units=512, activation='relu')(flatten_layer)\n",
    "dense_layer1 = Dropout(0.4)(dense_layer1)\n",
    "output_layer = Dense(units=6, activation='softmax')(dense_layer1)\n",
    "\n",
    "## define the model with input layer and output layer\n",
    "model = Model(inputs=input_layer, outputs=output_layer)\n",
    "model.summary()"
   ]
  },
  {
   "cell_type": "code",
   "execution_count": 44,
   "metadata": {
    "colab": {
     "base_uri": "https://localhost:8080/"
    },
    "executionInfo": {
     "elapsed": 3,
     "status": "ok",
     "timestamp": 1641123841381,
     "user": {
      "displayName": "林少穎",
      "photoUrl": "https://lh3.googleusercontent.com/a/default-user=s64",
      "userId": "15074644120866725526"
     },
     "user_tz": -480
    },
    "id": "_UhIrx6IZJaO",
    "outputId": "70a7e040-de27-44d5-cc57-1871236f946a",
    "scrolled": true
   },
   "outputs": [
    {
     "name": "stderr",
     "output_type": "stream",
     "text": [
      "c:\\users\\meeting\\appdata\\local\\programs\\python\\python36\\lib\\site-packages\\keras\\optimizer_v2\\optimizer_v2.py:356: UserWarning: The `lr` argument is deprecated, use `learning_rate` instead.\n",
      "  \"The `lr` argument is deprecated, use `learning_rate` instead.\")\n"
     ]
    }
   ],
   "source": [
    "adam = tf.keras.optimizers.Adam(lr=1e-8)\n",
    "model.compile(loss='sparse_categorical_crossentropy',\n",
    "          optimizer= \"adam\",\n",
    "          metrics=['acc'])"
   ]
  },
  {
   "cell_type": "code",
   "execution_count": 45,
   "metadata": {
    "colab": {
     "base_uri": "https://localhost:8080/"
    },
    "collapsed": true,
    "id": "clf2cBjGZXs9",
    "outputId": "d0bb1511-82aa-4d0f-8257-2e9869ff67b5"
   },
   "outputs": [
    {
     "name": "stdout",
     "output_type": "stream",
     "text": [
      "Train on 1413 samples, validate on 354 samples\n",
      "Epoch 1/50\n"
     ]
    },
    {
     "name": "stderr",
     "output_type": "stream",
     "text": [
      "ERROR:root:Internal Python error in the inspect module.\n",
      "Below is the traceback from this internal error.\n",
      "\n"
     ]
    },
    {
     "name": "stdout",
     "output_type": "stream",
     "text": [
      "Traceback (most recent call last):\n",
      "  File \"c:\\users\\meeting\\appdata\\local\\programs\\python\\python36\\lib\\site-packages\\IPython\\core\\interactiveshell.py\", line 3326, in run_code\n",
      "    exec(code_obj, self.user_global_ns, self.user_ns)\n",
      "  File \"<ipython-input-45-dee45ea181a5>\", line 2, in <module>\n",
      "    history = model.fit(x=x_train, y=y_train, batch_size=32, epochs=50, validation_split=0.2)\n",
      "  File \"c:\\users\\meeting\\appdata\\local\\programs\\python\\python36\\lib\\site-packages\\keras\\engine\\training_v1.py\", line 796, in fit\n",
      "    use_multiprocessing=use_multiprocessing)\n",
      "  File \"c:\\users\\meeting\\appdata\\local\\programs\\python\\python36\\lib\\site-packages\\keras\\engine\\training_arrays_v1.py\", line 657, in fit\n",
      "    steps_name='steps_per_epoch')\n",
      "  File \"c:\\users\\meeting\\appdata\\local\\programs\\python\\python36\\lib\\site-packages\\keras\\engine\\training_arrays_v1.py\", line 376, in model_iteration\n",
      "    batch_outs = f(ins_batch)\n",
      "  File \"c:\\users\\meeting\\appdata\\local\\programs\\python\\python36\\lib\\site-packages\\keras\\backend.py\", line 4032, in __call__\n",
      "    run_metadata=self.run_metadata)\n",
      "  File \"c:\\users\\meeting\\appdata\\local\\programs\\python\\python36\\lib\\site-packages\\tensorflow\\python\\client\\session.py\", line 1480, in __call__\n",
      "    run_metadata_ptr)\n",
      "KeyboardInterrupt\n",
      "\n",
      "During handling of the above exception, another exception occurred:\n",
      "\n",
      "Traceback (most recent call last):\n",
      "  File \"c:\\users\\meeting\\appdata\\local\\programs\\python\\python36\\lib\\site-packages\\IPython\\core\\interactiveshell.py\", line 2040, in showtraceback\n",
      "    stb = value._render_traceback_()\n",
      "AttributeError: 'KeyboardInterrupt' object has no attribute '_render_traceback_'\n",
      "\n",
      "During handling of the above exception, another exception occurred:\n",
      "\n",
      "Traceback (most recent call last):\n",
      "  File \"c:\\users\\meeting\\appdata\\local\\programs\\python\\python36\\lib\\site-packages\\IPython\\core\\ultratb.py\", line 1101, in get_records\n",
      "    return _fixed_getinnerframes(etb, number_of_lines_of_context, tb_offset)\n",
      "  File \"c:\\users\\meeting\\appdata\\local\\programs\\python\\python36\\lib\\site-packages\\IPython\\core\\ultratb.py\", line 319, in wrapped\n",
      "    return f(*args, **kwargs)\n",
      "  File \"c:\\users\\meeting\\appdata\\local\\programs\\python\\python36\\lib\\site-packages\\IPython\\core\\ultratb.py\", line 353, in _fixed_getinnerframes\n",
      "    records = fix_frame_records_filenames(inspect.getinnerframes(etb, context))\n",
      "  File \"c:\\users\\meeting\\appdata\\local\\programs\\python\\python36\\lib\\inspect.py\", line 1490, in getinnerframes\n",
      "    frameinfo = (tb.tb_frame,) + getframeinfo(tb, context)\n",
      "  File \"c:\\users\\meeting\\appdata\\local\\programs\\python\\python36\\lib\\inspect.py\", line 1448, in getframeinfo\n",
      "    filename = getsourcefile(frame) or getfile(frame)\n",
      "  File \"c:\\users\\meeting\\appdata\\local\\programs\\python\\python36\\lib\\inspect.py\", line 696, in getsourcefile\n",
      "    if getattr(getmodule(object, filename), '__loader__', None) is not None:\n",
      "  File \"c:\\users\\meeting\\appdata\\local\\programs\\python\\python36\\lib\\inspect.py\", line 734, in getmodule\n",
      "    f = module.__file__\n",
      "KeyboardInterrupt\n"
     ]
    },
    {
     "ename": "KeyboardInterrupt",
     "evalue": "",
     "output_type": "error",
     "traceback": [
      "\u001b[1;31m---------------------------------------------------------------------------\u001b[0m"
     ]
    }
   ],
   "source": [
    "## CNN model fitting\n",
    "history = model.fit(x=x_train, y=y_train, batch_size=32, epochs=50, validation_split=0.2)"
   ]
  },
  {
   "cell_type": "code",
   "execution_count": null,
   "metadata": {},
   "outputs": [],
   "source": []
  },
  {
   "cell_type": "markdown",
   "metadata": {},
   "source": [
    "## Haralick Feature Extraction"
   ]
  },
  {
   "cell_type": "code",
   "execution_count": 62,
   "metadata": {},
   "outputs": [],
   "source": [
    "train_hara = np.zeros((1767, 169))\n",
    "for i in range(1767):\n",
    "    image_data = cv2.imread(train_pd[\"ID\"][i])\n",
    "    hara = mahotas.features.haralick(image_data).flatten()\n",
    "    train_hara[i] = hara\n",
    "\n",
    "\n",
    "valid_hara = np.zeros((761, 169))\n",
    "for i in range(761):\n",
    "    image_data = cv2.imread(valid_pd[\"ID\"][i])\n",
    "    hara = mahotas.features.haralick(image_data).flatten()\n",
    "    valid_hara[i] = hara"
   ]
  },
  {
   "cell_type": "markdown",
   "metadata": {},
   "source": [
    "## Modeling (without weighted)"
   ]
  },
  {
   "cell_type": "markdown",
   "metadata": {},
   "source": [
    "- Random Forest"
   ]
  },
  {
   "cell_type": "code",
   "execution_count": 71,
   "metadata": {
    "scrolled": true
   },
   "outputs": [
    {
     "name": "stdout",
     "output_type": "stream",
     "text": [
      "0.9461235216819974\n"
     ]
    }
   ],
   "source": [
    "from sklearn import ensemble, preprocessing, metrics\n",
    "from sklearn.ensemble import RandomForestClassifier\n",
    "\n",
    "RF = RandomForestClassifier(random_state=0)\n",
    "RF.fit(train_hara, y_train)\n",
    "RF_predicted = RF.predict(valid_hara)\n",
    "RF_accuracy = metrics.accuracy_score(y_valid, RF_predicted)\n",
    "print('Accuracy', RF_accuracy)"
   ]
  },
  {
   "cell_type": "code",
   "execution_count": 87,
   "metadata": {},
   "outputs": [],
   "source": [
    "pos_prob_RF  = RF.predict_proba(valid_hara)[:,1]"
   ]
  },
  {
   "cell_type": "markdown",
   "metadata": {},
   "source": [
    "- XGboost"
   ]
  },
  {
   "cell_type": "code",
   "execution_count": 84,
   "metadata": {},
   "outputs": [
    {
     "name": "stdout",
     "output_type": "stream",
     "text": [
      "訓練集:  1.0\n",
      "測試集:  0.9461235216819974\n",
      "0.9461235216819974\n"
     ]
    }
   ],
   "source": [
    "from xgboost import XGBClassifier\n",
    "XGB = XGBClassifier(n_estimators=100, learning_rate= 0.3)\n",
    "XGB.fit(train_hara, y_train)\n",
    "XGB_predicted = XGB.predict(valid_hara)\n",
    "print('訓練集: ',XGB.score(train_hara,y_train))\n",
    "print('測試集: ',XGB.score(valid_hara,y_valid))\n",
    "\n",
    "XGB_accuracy = metrics.accuracy_score(y_valid, XGB_predicted)\n",
    "print('Accuracy', XGB_accuracy)"
   ]
  },
  {
   "cell_type": "code",
   "execution_count": 85,
   "metadata": {},
   "outputs": [],
   "source": [
    "pos_prob_XGB  = XGB.predict_proba(valid_hara)[:,1]"
   ]
  },
  {
   "cell_type": "code",
   "execution_count": 88,
   "metadata": {
    "scrolled": true
   },
   "outputs": [
    {
     "data": {
      "text/plain": [
       "<matplotlib.legend.Legend at 0x237cff5d5f8>"
      ]
     },
     "execution_count": 88,
     "metadata": {},
     "output_type": "execute_result"
    },
    {
     "data": {
      "image/png": "[encoded data removed]",
      "text/plain": [
       "<Figure size 720x432 with 1 Axes>"
      ]
     },
     "metadata": {
      "needs_background": "light"
     },
     "output_type": "display_data"
    }
   ],
   "source": [
    "def get_pr(pos_prob,y_true):\n",
    "    pos = y_true[y_true==1]\n",
    "    threshold = np.sort(pos_prob)[::-1]\n",
    "    y = y_true[pos_prob.argsort()[::-1]]\n",
    "    recall = [] ; precision = []\n",
    "    tp = 0 ; fp = 0\n",
    "    auc = 0\n",
    "    for i in range(len(threshold)):\n",
    "        if y[i] == 1:\n",
    "            tp += 1\n",
    "            recall.append(tp/len(pos))\n",
    "            precision.append(tp/(tp+fp))\n",
    "            auc += (recall[i]-recall[i-1])*precision[i]\n",
    "        else:\n",
    "            fp += 1\n",
    "            recall.append(tp/len(pos))\n",
    "            precision.append(tp/(tp+fp))\n",
    "    return precision,recall,auc\n",
    "\n",
    "precision_XGB,recall_XGB,auc_XGB = get_pr(pos_prob_XGB,np.array(y_valid))\n",
    "precision_RF,recall_RF,auc_RF = get_pr(pos_prob_RF,np.array(y_valid))\n",
    "\n",
    "plt.figure(figsize=(10,6))\n",
    "plt.plot(recall_XGB,precision_XGB,label=\"XGboost (AUC: {:.3f})\".format(auc_XGB),linewidth=2)\n",
    "plt.plot(recall_RF,precision_RF,label=\"Random Forest (AUC: {:.3f})\".format(auc_RF),linewidth=2)\n",
    "plt.xlabel(\"Recall\",fontsize=16)\n",
    "plt.ylabel(\"Precision\",fontsize=16)\n",
    "plt.title(\"Precision Recall Curve\",fontsize=17)\n",
    "plt.legend(fontsize=16)"
   ]
  },
  {
   "cell_type": "code",
   "execution_count": null,
   "metadata": {},
   "outputs": [],
   "source": []
  },
  {
   "cell_type": "markdown",
   "metadata": {},
   "source": [
    "## Modeling (with weighted)"
   ]
  },
  {
   "cell_type": "markdown",
   "metadata": {},
   "source": [
    "- Random Forest"
   ]
  },
  {
   "cell_type": "code",
   "execution_count": 90,
   "metadata": {
    "scrolled": true
   },
   "outputs": [
    {
     "data": {
      "text/plain": [
       "array([0.62526539, 0.85610465, 4.20714286, 1.1155303 , 1.75297619,\n",
       "       0.65444444])"
      ]
     },
     "execution_count": 90,
     "metadata": {},
     "output_type": "execute_result"
    }
   ],
   "source": [
    "class_weights"
   ]
  },
  {
   "cell_type": "code",
   "execution_count": 100,
   "metadata": {
    "scrolled": true
   },
   "outputs": [
    {
     "name": "stdout",
     "output_type": "stream",
     "text": [
      "Accuracy: 0.9448094612352168\n"
     ]
    }
   ],
   "source": [
    "from sklearn import ensemble, preprocessing, metrics\n",
    "from sklearn.ensemble import RandomForestClassifier\n",
    "\n",
    "RF_weighted = RandomForestClassifier(random_state=0, \n",
    "                class_weight={0:0.62526539, 1:0.85610465, 2:4.20714286, 3:1.1155303 , 4:1.75297619, 5:0.65444444})\n",
    "RF_weighted.fit(train_hara, y_train)\n",
    "RF_weighted_predicted = RF_weighted.predict(valid_hara)\n",
    "RF_weighted_accuracy = metrics.accuracy_score(y_valid, RF_weighted_predicted)\n",
    "print('Accuracy:', RF_weighted_accuracy)"
   ]
  },
  {
   "cell_type": "code",
   "execution_count": 101,
   "metadata": {},
   "outputs": [],
   "source": [
    "pos_prob_RF_weighted  = RF_weighted.predict_proba(valid_hara)[:,1]"
   ]
  },
  {
   "cell_type": "markdown",
   "metadata": {},
   "source": [
    "- XGboost"
   ]
  },
  {
   "cell_type": "code",
   "execution_count": 95,
   "metadata": {},
   "outputs": [
    {
     "name": "stdout",
     "output_type": "stream",
     "text": [
      "訓練集:  1.0\n",
      "測試集:  0.9487516425755584\n",
      "Accuracy 0.9487516425755584\n"
     ]
    }
   ],
   "source": [
    "from xgboost import XGBClassifier\n",
    "from sklearn.utils.class_weight import compute_sample_weight\n",
    "sample_weights = compute_sample_weight(\n",
    "    class_weight='balanced',\n",
    "    y=y_train #provide your own target name\n",
    ")\n",
    "\n",
    "XGB_weighted = XGBClassifier(n_estimators=100, learning_rate= 0.3)\n",
    "XGB_weighted.fit(train_hara, y_train, sample_weight=sample_weights)\n",
    "XGB_weighted_predicted = XGB_weighted.predict(valid_hara)\n",
    "print('訓練集: ',XGB_weighted.score(train_hara,y_train))\n",
    "print('測試集: ',XGB_weighted.score(valid_hara,y_valid))\n",
    "\n",
    "XGB_weighted_accuracy = metrics.accuracy_score(y_valid, XGB_weighted_predicted)\n",
    "print('Accuracy', XGB_weighted_accuracy)"
   ]
  },
  {
   "cell_type": "code",
   "execution_count": 96,
   "metadata": {},
   "outputs": [],
   "source": [
    "pos_prob_XGB_weighted  = XGB_weighted.predict_proba(valid_hara)[:,1]"
   ]
  },
  {
   "cell_type": "code",
   "execution_count": 102,
   "metadata": {
    "scrolled": false
   },
   "outputs": [
    {
     "data": {
      "text/plain": [
       "<matplotlib.legend.Legend at 0x237d02e0d68>"
      ]
     },
     "execution_count": 102,
     "metadata": {},
     "output_type": "execute_result"
    },
    {
     "data": {
      "image/png": "[encoded data removed]",
      "text/plain": [
       "<Figure size 720x432 with 1 Axes>"
      ]
     },
     "metadata": {
      "needs_background": "light"
     },
     "output_type": "display_data"
    }
   ],
   "source": [
    "precision_XGB,recall_XGB,auc_XGB = get_pr(pos_prob_XGB_weighted,np.array(y_valid))\n",
    "precision_RF,recall_RF,auc_RF = get_pr(pos_prob_RF_weighted,np.array(y_valid))\n",
    "\n",
    "plt.figure(figsize=(10,6))\n",
    "plt.plot(recall_XGB,precision_XGB,label=\"XGboost (AUC: {:.3f})\".format(auc_XGB),linewidth=2)\n",
    "plt.plot(recall_RF,precision_RF,label=\"Random Forest (AUC: {:.3f})\".format(auc_RF),linewidth=2)\n",
    "plt.xlabel(\"Recall\",fontsize=16)\n",
    "plt.ylabel(\"Precision\",fontsize=16)\n",
    "plt.title(\"Precision Recall Curve (with weighted)\",fontsize=17)\n",
    "plt.legend(fontsize=16)"
   ]
  },
  {
   "cell_type": "code",
   "execution_count": 122,
   "metadata": {},
   "outputs": [
    {
     "name": "stdout",
     "output_type": "stream",
     "text": [
      "RF\n",
      " [[198   0   1   4   0   0]\n",
      " [  4 131   0   4   4   5]\n",
      " [  1   0  29   0   0   0]\n",
      " [  6   7   0  99   2   0]\n",
      " [  0   1   0   2  69   0]\n",
      " [  0   1   0   0   0 193]]\n",
      "XGB\n",
      " [[198   0   1   4   0   0]\n",
      " [  3 132   0   5   3   5]\n",
      " [  2   0  28   0   0   0]\n",
      " [  2   6   0 102   4   0]\n",
      " [  0   2   0   1  69   0]\n",
      " [  0   1   0   0   0 193]]\n"
     ]
    }
   ],
   "source": [
    "RF_cm = confusion_matrix(y_valid, RF_weighted_predicted)\n",
    "XGB_cm = confusion_matrix(y_valid, XGB_weighted_predicted)\n",
    "\n",
    "print(\"RF\\n\", RF_cm)\n",
    "print(\"XGB\\n\", XGB_cm)"
   ]
  }
 ],
 "metadata": {
  "colab": {
   "authorship_tag": "ABX9TyMlYW+ht05FT+KsUdyh0aBr",
   "collapsed_sections": [],
   "name": "AOI final project.ipynb",
   "provenance": []
  },
  "kernelspec": {
   "display_name": "Python 3",
   "language": "python",
   "name": "python3"
  },
  "language_info": {
   "codemirror_mode": {
    "name": "ipython",
    "version": 3
   },
   "file_extension": ".py",
   "mimetype": "text/x-python",
   "name": "python",
   "nbconvert_exporter": "python",
   "pygments_lexer": "ipython3",
   "version": "3.6.8"
  },
  "toc": {
   "base_numbering": 1,
   "nav_menu": {},
   "number_sections": true,
   "sideBar": true,
   "skip_h1_title": false,
   "title_cell": "Table of Contents",
   "title_sidebar": "Contents",
   "toc_cell": true,
   "toc_position": {
    "height": "calc(100% - 180px)",
    "left": "10px",
    "top": "150px",
    "width": "251.771px"
   },
   "toc_section_display": true,
   "toc_window_display": false
  }
 },
 "nbformat": 4,
 "nbformat_minor": 1
}
